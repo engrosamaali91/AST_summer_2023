{
 "cells": [
  {
   "cell_type": "code",
   "execution_count": 51,
   "id": "9ad2ec8b",
   "metadata": {},
   "outputs": [],
   "source": [
    "from abc import ABC, abstractmethod\n",
    "from datetime import date\n",
    "from enum import Enum\n"
   ]
  },
  {
   "cell_type": "code",
   "execution_count": 52,
   "id": "945f0ac9",
   "metadata": {},
   "outputs": [],
   "source": [
    "class Payment(ABC):\n",
    "    @abstractmethod\n",
    "    def __init__(self, amount: float):\n",
    "        self.amount = amount\n",
    "    "
   ]
  },
  {
   "cell_type": "code",
   "execution_count": 53,
   "id": "42346739",
   "metadata": {},
   "outputs": [],
   "source": [
    "#cash class inherits from payment class\n",
    "class Cash(Payment):\n",
    "    def __init__(self, amount: float, cash_tendered: float):\n",
    "        super().__init__(amount)\n",
    "        self.__cash_tendered:float = None\n",
    "    def tender_cash(self):\n",
    "        self.__cash_tendered = float(input(\"enter the number\"))\n",
    "    def return_change(self):\n",
    "        self.money = self.__cash_tendered - self.amount\n",
    "        return self.money\n",
    "    \n",
    "    def __str__(self) -> str:\n",
    "        printing = \"\\nReceipt \\nCash Paid : {} \\nChange returned : {}\\n\".format(self.__cash_tendered, self.return_change())\n",
    "        return printing\n",
    "    \n",
    "    \n"
   ]
  },
  {
   "cell_type": "code",
   "execution_count": 54,
   "id": "11249a69",
   "metadata": {},
   "outputs": [
    {
     "name": "stdout",
     "output_type": "stream",
     "text": [
      "enter the number3123\n",
      "\n",
      "Receipt \n",
      "Cash Paid : 3123.0 \n",
      "Change returned : 3121.9\n",
      "\n"
     ]
    }
   ],
   "source": [
    "#     c = Cash(1.1,2.2)\n",
    "#     c.tender_cash()\n",
    "#     print(c)"
   ]
  },
  {
   "cell_type": "code",
   "execution_count": 67,
   "id": "c51eeb15",
   "metadata": {},
   "outputs": [],
   "source": [
    "#banktransfer class inherits from payment class\n",
    "class BankTransfer(Payment):\n",
    "    def __init__(self, amount: float):\n",
    "        super().__init__(amount)\n",
    "        self.__receipient_name = input(\"enter the receipient_name \")\n",
    "        self.__IBAN = input(\"enter the IBAN \")\n",
    "        self.__BIC = input(\"enter the BIC \")\n",
    "    def authorized(self):\n",
    "        return \"Bank transfer has been authorized\"\n",
    "\n",
    "    def __str__(self) -> str:\n",
    "\n",
    "        printing = \"\\nBank details \\nRecipient Name: {} \\n\".format(self.__receipient_name) + \"IBAN: {} \\nBIC: {}\\n\".format(self.__IBAN, self.__BIC) + \"Status : \" + self.authorized() + \"\\n\"  + \"\\nReceipt \\n\" +\"Amount paid : {}\\nAmount received : {}\".format(self.amount, self.amount)\n",
    "        return printing"
   ]
  },
  {
   "cell_type": "code",
   "execution_count": 69,
   "id": "553a1fa1",
   "metadata": {},
   "outputs": [
    {
     "name": "stdout",
     "output_type": "stream",
     "text": [
      "enter the receipient_name dasd\n",
      "enter the IBAN sda\n",
      "enter the BIC das\n"
     ]
    },
    {
     "data": {
      "text/plain": [
       "'Bank transfer has been authorized'"
      ]
     },
     "execution_count": 69,
     "metadata": {},
     "output_type": "execute_result"
    }
   ],
   "source": [
    "b = BankTransfer(10)\n",
    "b.authorized()"
   ]
  },
  {
   "cell_type": "code",
   "execution_count": 91,
   "id": "358cf7f2",
   "metadata": {},
   "outputs": [
    {
     "name": "stdout",
     "output_type": "stream",
     "text": [
      "enter the number dsada\n",
      "enter the card type das\n",
      "enter the cardholder name das\n",
      "enter the expiration date da\n"
     ]
    },
    {
     "data": {
      "text/plain": [
       "'\\nCredit Card details \\nCard Number: dsada\\nCard Type: das\\nCard Holder Name: das\\nCard Expiration Date: da \\nStatus : credit card has been authorized\\n\\nReceipt \\nAmount paid : 20\\nAmount received : 20'"
      ]
     },
     "execution_count": 91,
     "metadata": {},
     "output_type": "execute_result"
    }
   ],
   "source": [
    "#credit card class inherits from payment class\n",
    "class CreditCard(Payment):\n",
    "    def __init__(self, amount: float):\n",
    "        super().__init__(amount)\n",
    "        self.__number: str= input(\"enter the number \")\n",
    "        self.__type: str = input(\"enter the card type \")\n",
    "        self.__cardholder_name: str = input(\"enter the cardholder name \") \n",
    "        self.__expiration_date: str = input(\"enter the expiration date \")\n",
    "    def authorized(self):\n",
    "        return \"credit card has been authorized\"\n",
    "    \n",
    "    def __str__(self) -> str:\n",
    "        printing = \"\\nCredit Card details \\n\" + \"Card Number: {}\".format(self.__number) + \"\\nCard Type: {}\".format(self.__type) + \"\\nCard Holder Name: {}\".format(self.__cardholder_name) + \"\\nCard Expiration Date: {} \\n\".format(self.__expiration_date) + \"Status : \" + self.authorized() + \"\\n\" + \"\\nReceipt \\n\" + \"Amount paid : {}\\nAmount received : {}\".format(self.amount,self.amount)\n",
    "        return printing\n",
    "    \n",
    "cc = CreditCard(20)\n",
    "cc.authorized()\n",
    "cc.__str__()"
   ]
  },
  {
   "cell_type": "code",
   "execution_count": 86,
   "id": "ed469416",
   "metadata": {},
   "outputs": [],
   "source": [
    "#aggregation between address class and customer class \n",
    "#meaninig Address can survive if Customer is disposed \n",
    "#https://khalilstemmler.com/articles/uml-cheatsheet/\n",
    "class Address():\n",
    "    def __init__(self):\n",
    "        self.__country = None \n",
    "        self.__city = None\n",
    "        self.__postalcode = None \n",
    "        self.__street = None\n",
    "        self.__number = None \n",
    "        \n",
    "    def get_country(self):\n",
    "        self.__country = input(\"Enter the country name\")\n",
    "    \n",
    "    def get_city(self):\n",
    "        self.__city = input(\"Enter the city name:\")\n",
    "    def get_postalcode(self):\n",
    "        self.__postalcode = input(\"Enter the postal code:\")\n",
    "    def get_street(self):\n",
    "        self.__street= input(\"Enter the street number\")\n",
    "    def get_number(self):\n",
    "        self.__number = input(\"Enter the number\")\n",
    "    def get_ful_address(self):\n",
    "        self.get_country()\n",
    "        self.get_city()\n",
    "        self.get_street()\n",
    "        self.get_number()\n",
    "        self.get_postalcode()\n",
    "    \n",
    "    def __str__(self) -> str:\n",
    "        printing = \"\\nAddress\\n{}, {},\\n{} {}, {}.\\n\".format(self.__postalcode, self.__street, self.__city, self.__number,  self.__country)\n",
    "        return printing"
   ]
  },
  {
   "cell_type": "code",
   "execution_count": 90,
   "id": "2c05cbc9",
   "metadata": {},
   "outputs": [],
   "source": [
    "# aa = Address()\n",
    "# aa.get_ful_address()\n",
    "# aa.__str__()"
   ]
  },
  {
   "cell_type": "code",
   "execution_count": 92,
   "id": "dbfd4f47",
   "metadata": {},
   "outputs": [
    {
     "data": {
      "text/plain": [
       "'\\nContact details\\nfirst name : None\\nlast name : None\\nphone number : None\\nEmail : None\\n'"
      ]
     },
     "execution_count": 92,
     "metadata": {},
     "output_type": "execute_result"
    }
   ],
   "source": [
    "#aggregation between contact details class and custmomer 1 to 1\n",
    "class ContactDetails():\n",
    "    def __init__(self):\n",
    "        self.__first_name: str = None\n",
    "        self.__last_name: str = None \n",
    "        self.__email: str = None\n",
    "        self.__phone_number: str = None\n",
    "            \n",
    "    def get_first_name(self):\n",
    "        self.__first_name = input(\"Enter the first name\")\n",
    "    def get_last_name(self):\n",
    "        self.__last_name = input(\"Enter the last name\")\n",
    "    def get_email(self):\n",
    "        self.__email = input(\"Enter the email address\")\n",
    "    def get_phone_number(self):\n",
    "        self.__phone_number = input(\"Enter the phone number\")\n",
    "\n",
    "    def __str__(self) -> None:\n",
    "        printing = \"\\nContact details\\nfirst name : {}\\nlast name : {}\\nphone number : {}\\nEmail : {}\\n\".format(self.__first_name, self.__last_name, self.__phone_number, self.__email)\n",
    "        return printing\n"
   ]
  },
  {
   "cell_type": "code",
   "execution_count": null,
   "id": "35342549",
   "metadata": {},
   "outputs": [],
   "source": [
    "    \n",
    "# cd = ContactDetails()\n",
    "# cd.__str__()"
   ]
  },
  {
   "cell_type": "code",
   "execution_count": null,
   "id": "4bd43deb",
   "metadata": {},
   "outputs": [],
   "source": [
    "#customer class\n",
    "\n",
    "class Customer():\n",
    "    def __init__(self):\n",
    "        self.customer_address = Address()\n",
    "        self.customer_contact_details = ContactDetails()\n",
    "        \n",
    "        self.order = None\n",
    "    def get_contact_details(self):\n",
    "        self.customer_contact_details.get_first_name()\n",
    "        self.customer_contact_details.get_last_name()\n",
    "        self.customer_contact_details.get_phone_number()\n",
    "        self.customer_contact_details.get_email()\n",
    "    def get_address(self):\n",
    "        self.customer_address.get_ful_address()\n",
    "    \n",
    "    def get_orders(self):\n",
    "        self.order = "
   ]
  }
 ],
 "metadata": {
  "kernelspec": {
   "display_name": "Python 3 (ipykernel)",
   "language": "python",
   "name": "python3"
  },
  "language_info": {
   "codemirror_mode": {
    "name": "ipython",
    "version": 3
   },
   "file_extension": ".py",
   "mimetype": "text/x-python",
   "name": "python",
   "nbconvert_exporter": "python",
   "pygments_lexer": "ipython3",
   "version": "3.9.13"
  }
 },
 "nbformat": 4,
 "nbformat_minor": 5
}
