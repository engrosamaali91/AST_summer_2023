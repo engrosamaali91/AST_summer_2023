{
 "cells": [
  {
   "cell_type": "code",
   "execution_count": 1,
   "id": "5ffc0298",
   "metadata": {},
   "outputs": [],
   "source": [
    "import abc"
   ]
  },
  {
   "cell_type": "code",
   "execution_count": 14,
   "id": "12e8c59d",
   "metadata": {},
   "outputs": [],
   "source": [
    "class Bird(abc.ABC):\n",
    "    @abc.abstractmethod\n",
    "    def fly(self):\n",
    "        pass\n",
    "    \n",
    "class Parrot(Bird):\n",
    "    def fly(self):\n",
    "        print(\"flying the bird\")\n",
    "\n",
    "        \n",
    "p = Parrot()\n"
   ]
  },
  {
   "cell_type": "code",
   "execution_count": 9,
   "id": "c8ffec6b",
   "metadata": {},
   "outputs": [
    {
     "name": "stdout",
     "output_type": "stream",
     "text": [
      "flying the bird\n"
     ]
    }
   ],
   "source": [
    "p.fly()"
   ]
  },
  {
   "cell_type": "code",
   "execution_count": 12,
   "id": "c6c53aa8",
   "metadata": {},
   "outputs": [
    {
     "name": "stdout",
     "output_type": "stream",
     "text": [
      "p is bird ? True\n",
      "b is bird ? True\n"
     ]
    }
   ],
   "source": [
    "print(\"p is bird ?\", isinstance(p, Bird))\n",
    "\n"
   ]
  },
  {
   "cell_type": "code",
   "execution_count": 15,
   "id": "75cca932",
   "metadata": {},
   "outputs": [],
   "source": [
    "class Aeroplane(abc.ABC):\n",
    "    @abc.abstractmethod\n",
    "    def fly(self):\n",
    "        pass\n",
    "\n",
    "class Boeing(Aeroplane):\n",
    "    def fly(self):\n",
    "        print(\"Flying!\")\n",
    "b = Boeing()"
   ]
  },
  {
   "cell_type": "code",
   "execution_count": 18,
   "id": "d8a6eb94",
   "metadata": {},
   "outputs": [
    {
     "name": "stdout",
     "output_type": "stream",
     "text": [
      "False\n",
      "True\n"
     ]
    }
   ],
   "source": [
    "print(isinstance(b, Bird))\n",
    "print(isinstance(b, Aeroplane))"
   ]
  },
  {
   "cell_type": "code",
   "execution_count": null,
   "id": "1171613e",
   "metadata": {},
   "outputs": [],
   "source": []
  }
 ],
 "metadata": {
  "kernelspec": {
   "display_name": "Python 3 (ipykernel)",
   "language": "python",
   "name": "python3"
  },
  "language_info": {
   "codemirror_mode": {
    "name": "ipython",
    "version": 3
   },
   "file_extension": ".py",
   "mimetype": "text/x-python",
   "name": "python",
   "nbconvert_exporter": "python",
   "pygments_lexer": "ipython3",
   "version": "3.9.13"
  }
 },
 "nbformat": 4,
 "nbformat_minor": 5
}
